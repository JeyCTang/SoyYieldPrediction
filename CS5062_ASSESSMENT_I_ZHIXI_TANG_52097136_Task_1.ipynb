{
  "nbformat": 4,
  "nbformat_minor": 0,
  "metadata": {
    "kernelspec": {
      "display_name": "Python 3",
      "language": "python",
      "name": "python3"
    },
    "language_info": {
      "codemirror_mode": {
        "name": "ipython",
        "version": 2
      },
      "file_extension": ".py",
      "mimetype": "text/x-python",
      "name": "python",
      "nbconvert_exporter": "python",
      "pygments_lexer": "ipython2",
      "version": "2.7.6"
    },
    "colab": {
      "name": "Assessment_Task_1.ipynb",
      "provenance": [],
      "collapsed_sections": [
        "v8Yo33NA4BRJ",
        "D31GG0Iy9aP6",
        "NTHA8nQ09aP_",
        "LV4hAV0Y9aQD",
        "Y00VNhpv3ibM",
        "_o1TXXPcIGO-"
      ]
    },
    "accelerator": "GPU"
  },
  "cells": [
    {
      "cell_type": "markdown",
      "metadata": {
        "collapsed": false,
        "pycharm": {
          "name": "#%% md\n"
        },
        "id": "WOH8sXv49aP4"
      },
      "source": [
        "# CS5062_ASSESSMENT1_ZHIXI_TANG__52097136\n",
        "\n",
        "Student: ZHIXI TANG\n",
        "Student ID: 52097136\n",
        "\n",
        "## Introduction\n",
        "\n",
        "This .ipynb file include the source code and detailed explanation of CS5062 Assessment 1. It can be run on local machine with\n",
        "required environment or Google Colab.\n",
        "\n",
        "**Run on local machine:**\n",
        "\n",
        "* System:\n",
        "* Python Version:\n",
        "* IDE: Pycharm:\n",
        "* Required packages: see `requirements.txt` or use command `$ pip install -r requirements.txt`\n",
        "\n",
        "**Run on Colab:**\n",
        "\n",
        "Simply uploading this .ipynb file on Google Colab then feel free to play it."
      ]
    },
    {
      "cell_type": "markdown",
      "metadata": {
        "id": "v8Yo33NA4BRJ"
      },
      "source": [
        "## Task 1"
      ]
    },
    {
      "cell_type": "markdown",
      "metadata": {
        "collapsed": false,
        "pycharm": {
          "name": "#%% md\n"
        },
        "id": "D31GG0Iy9aP6"
      },
      "source": [
        "### Task 1 - A: Data Import\n",
        "\n",
        "We will use `pandas` to read the .csv data file as the following:"
      ]
    },
    {
      "cell_type": "code",
      "metadata": {
        "collapsed": true,
        "colab": {
          "base_uri": "https://localhost:8080/",
          "height": 419
        },
        "id": "8Aey5RkV9aP6",
        "outputId": "3c994041-0575-4256-c6e7-6b04e6db3582"
      },
      "source": [
        "import pandas as pd\n",
        "import numpy as np\n",
        "import torch\n",
        "\n",
        "df = pd.read_csv('./data/soybean_tabular.csv')\n",
        "df"
      ],
      "execution_count": null,
      "outputs": [
        {
          "output_type": "execute_result",
          "data": {
            "text/html": [
              "<div>\n",
              "<style scoped>\n",
              "    .dataframe tbody tr th:only-of-type {\n",
              "        vertical-align: middle;\n",
              "    }\n",
              "\n",
              "    .dataframe tbody tr th {\n",
              "        vertical-align: top;\n",
              "    }\n",
              "\n",
              "    .dataframe thead th {\n",
              "        text-align: right;\n",
              "    }\n",
              "</style>\n",
              "<table border=\"1\" class=\"dataframe\">\n",
              "  <thead>\n",
              "    <tr style=\"text-align: right;\">\n",
              "      <th></th>\n",
              "      <th>Variety</th>\n",
              "      <th>S_1</th>\n",
              "      <th>S_2</th>\n",
              "      <th>S_3</th>\n",
              "      <th>S_4</th>\n",
              "      <th>M_1</th>\n",
              "      <th>M_2</th>\n",
              "      <th>M_3</th>\n",
              "      <th>W_1</th>\n",
              "      <th>W_2</th>\n",
              "      <th>W_3</th>\n",
              "      <th>W_4</th>\n",
              "      <th>Yield</th>\n",
              "    </tr>\n",
              "  </thead>\n",
              "  <tbody>\n",
              "    <tr>\n",
              "      <th>0</th>\n",
              "      <td>1</td>\n",
              "      <td>4.0900</td>\n",
              "      <td>15.3</td>\n",
              "      <td>396.90</td>\n",
              "      <td>4.98</td>\n",
              "      <td>0.00632</td>\n",
              "      <td>18.0</td>\n",
              "      <td>6.575</td>\n",
              "      <td>2.381979</td>\n",
              "      <td>0.475522</td>\n",
              "      <td>65.2</td>\n",
              "      <td>296.350195</td>\n",
              "      <td>24.0</td>\n",
              "    </tr>\n",
              "    <tr>\n",
              "      <th>1</th>\n",
              "      <td>2</td>\n",
              "      <td>4.9671</td>\n",
              "      <td>17.8</td>\n",
              "      <td>396.90</td>\n",
              "      <td>9.14</td>\n",
              "      <td>0.02731</td>\n",
              "      <td>0.0</td>\n",
              "      <td>6.421</td>\n",
              "      <td>7.071148</td>\n",
              "      <td>0.509165</td>\n",
              "      <td>78.9</td>\n",
              "      <td>241.620198</td>\n",
              "      <td>21.6</td>\n",
              "    </tr>\n",
              "    <tr>\n",
              "      <th>2</th>\n",
              "      <td>2</td>\n",
              "      <td>4.9671</td>\n",
              "      <td>17.8</td>\n",
              "      <td>392.83</td>\n",
              "      <td>4.03</td>\n",
              "      <td>0.02729</td>\n",
              "      <td>0.0</td>\n",
              "      <td>7.185</td>\n",
              "      <td>6.896941</td>\n",
              "      <td>0.580673</td>\n",
              "      <td>61.1</td>\n",
              "      <td>241.551476</td>\n",
              "      <td>34.7</td>\n",
              "    </tr>\n",
              "    <tr>\n",
              "      <th>3</th>\n",
              "      <td>3</td>\n",
              "      <td>6.0622</td>\n",
              "      <td>18.7</td>\n",
              "      <td>394.63</td>\n",
              "      <td>2.94</td>\n",
              "      <td>0.03237</td>\n",
              "      <td>0.0</td>\n",
              "      <td>6.998</td>\n",
              "      <td>2.237817</td>\n",
              "      <td>0.491539</td>\n",
              "      <td>45.8</td>\n",
              "      <td>222.023994</td>\n",
              "      <td>33.4</td>\n",
              "    </tr>\n",
              "    <tr>\n",
              "      <th>4</th>\n",
              "      <td>3</td>\n",
              "      <td>6.0622</td>\n",
              "      <td>18.7</td>\n",
              "      <td>396.90</td>\n",
              "      <td>5.33</td>\n",
              "      <td>0.06905</td>\n",
              "      <td>0.0</td>\n",
              "      <td>7.147</td>\n",
              "      <td>1.979327</td>\n",
              "      <td>0.103660</td>\n",
              "      <td>54.2</td>\n",
              "      <td>221.723972</td>\n",
              "      <td>36.2</td>\n",
              "    </tr>\n",
              "    <tr>\n",
              "      <th>...</th>\n",
              "      <td>...</td>\n",
              "      <td>...</td>\n",
              "      <td>...</td>\n",
              "      <td>...</td>\n",
              "      <td>...</td>\n",
              "      <td>...</td>\n",
              "      <td>...</td>\n",
              "      <td>...</td>\n",
              "      <td>...</td>\n",
              "      <td>...</td>\n",
              "      <td>...</td>\n",
              "      <td>...</td>\n",
              "      <td>...</td>\n",
              "    </tr>\n",
              "    <tr>\n",
              "      <th>501</th>\n",
              "      <td>1</td>\n",
              "      <td>2.4786</td>\n",
              "      <td>21.0</td>\n",
              "      <td>391.99</td>\n",
              "      <td>9.67</td>\n",
              "      <td>0.06263</td>\n",
              "      <td>0.0</td>\n",
              "      <td>6.593</td>\n",
              "      <td>11.774062</td>\n",
              "      <td>0.565469</td>\n",
              "      <td>69.1</td>\n",
              "      <td>272.952382</td>\n",
              "      <td>22.4</td>\n",
              "    </tr>\n",
              "    <tr>\n",
              "      <th>502</th>\n",
              "      <td>1</td>\n",
              "      <td>2.2875</td>\n",
              "      <td>21.0</td>\n",
              "      <td>396.90</td>\n",
              "      <td>9.08</td>\n",
              "      <td>0.04527</td>\n",
              "      <td>0.0</td>\n",
              "      <td>6.120</td>\n",
              "      <td>11.785249</td>\n",
              "      <td>0.562102</td>\n",
              "      <td>76.7</td>\n",
              "      <td>273.264306</td>\n",
              "      <td>20.6</td>\n",
              "    </tr>\n",
              "    <tr>\n",
              "      <th>503</th>\n",
              "      <td>1</td>\n",
              "      <td>2.1675</td>\n",
              "      <td>21.0</td>\n",
              "      <td>396.90</td>\n",
              "      <td>5.64</td>\n",
              "      <td>0.06076</td>\n",
              "      <td>0.0</td>\n",
              "      <td>6.976</td>\n",
              "      <td>11.854205</td>\n",
              "      <td>0.777569</td>\n",
              "      <td>91.0</td>\n",
              "      <td>273.421726</td>\n",
              "      <td>23.9</td>\n",
              "    </tr>\n",
              "    <tr>\n",
              "      <th>504</th>\n",
              "      <td>1</td>\n",
              "      <td>2.3889</td>\n",
              "      <td>21.0</td>\n",
              "      <td>393.45</td>\n",
              "      <td>6.48</td>\n",
              "      <td>0.10959</td>\n",
              "      <td>0.0</td>\n",
              "      <td>6.794</td>\n",
              "      <td>11.765196</td>\n",
              "      <td>0.679057</td>\n",
              "      <td>89.3</td>\n",
              "      <td>273.913622</td>\n",
              "      <td>22.0</td>\n",
              "    </tr>\n",
              "    <tr>\n",
              "      <th>505</th>\n",
              "      <td>1</td>\n",
              "      <td>2.5050</td>\n",
              "      <td>21.0</td>\n",
              "      <td>396.90</td>\n",
              "      <td>7.88</td>\n",
              "      <td>0.04741</td>\n",
              "      <td>0.0</td>\n",
              "      <td>6.030</td>\n",
              "      <td>12.007563</td>\n",
              "      <td>0.615699</td>\n",
              "      <td>80.8</td>\n",
              "      <td>273.623418</td>\n",
              "      <td>11.9</td>\n",
              "    </tr>\n",
              "  </tbody>\n",
              "</table>\n",
              "<p>506 rows × 13 columns</p>\n",
              "</div>"
            ],
            "text/plain": [
              "     Variety     S_1   S_2     S_3  ...       W_2   W_3         W_4  Yield\n",
              "0          1  4.0900  15.3  396.90  ...  0.475522  65.2  296.350195   24.0\n",
              "1          2  4.9671  17.8  396.90  ...  0.509165  78.9  241.620198   21.6\n",
              "2          2  4.9671  17.8  392.83  ...  0.580673  61.1  241.551476   34.7\n",
              "3          3  6.0622  18.7  394.63  ...  0.491539  45.8  222.023994   33.4\n",
              "4          3  6.0622  18.7  396.90  ...  0.103660  54.2  221.723972   36.2\n",
              "..       ...     ...   ...     ...  ...       ...   ...         ...    ...\n",
              "501        1  2.4786  21.0  391.99  ...  0.565469  69.1  272.952382   22.4\n",
              "502        1  2.2875  21.0  396.90  ...  0.562102  76.7  273.264306   20.6\n",
              "503        1  2.1675  21.0  396.90  ...  0.777569  91.0  273.421726   23.9\n",
              "504        1  2.3889  21.0  393.45  ...  0.679057  89.3  273.913622   22.0\n",
              "505        1  2.5050  21.0  396.90  ...  0.615699  80.8  273.623418   11.9\n",
              "\n",
              "[506 rows x 13 columns]"
            ]
          },
          "metadata": {},
          "execution_count": 51
        }
      ]
    },
    {
      "cell_type": "markdown",
      "metadata": {
        "collapsed": false,
        "pycharm": {
          "name": "#%% md\n"
        },
        "id": "SYdZFgcJ9aP8"
      },
      "source": [
        "Similarly, we use `pandas` to get the statistical summary infomation (mean, range, standard deviations, min/max, median, and 25%/50%/75% percentile)."
      ]
    },
    {
      "cell_type": "code",
      "metadata": {
        "pycharm": {
          "name": "#%%\n"
        },
        "colab": {
          "base_uri": "https://localhost:8080/",
          "height": 297
        },
        "id": "GbFNtcHW9aP8",
        "outputId": "2fc1078d-8e47-4a5d-d6e7-31cafca3442a"
      },
      "source": [
        "df1 = df.iloc[:, 1:]\n",
        "\n",
        "# range\n",
        "df1.describe()"
      ],
      "execution_count": null,
      "outputs": [
        {
          "output_type": "execute_result",
          "data": {
            "text/html": [
              "<div>\n",
              "<style scoped>\n",
              "    .dataframe tbody tr th:only-of-type {\n",
              "        vertical-align: middle;\n",
              "    }\n",
              "\n",
              "    .dataframe tbody tr th {\n",
              "        vertical-align: top;\n",
              "    }\n",
              "\n",
              "    .dataframe thead th {\n",
              "        text-align: right;\n",
              "    }\n",
              "</style>\n",
              "<table border=\"1\" class=\"dataframe\">\n",
              "  <thead>\n",
              "    <tr style=\"text-align: right;\">\n",
              "      <th></th>\n",
              "      <th>S_1</th>\n",
              "      <th>S_2</th>\n",
              "      <th>S_3</th>\n",
              "      <th>S_4</th>\n",
              "      <th>M_1</th>\n",
              "      <th>M_2</th>\n",
              "      <th>M_3</th>\n",
              "      <th>W_1</th>\n",
              "      <th>W_2</th>\n",
              "      <th>W_3</th>\n",
              "      <th>W_4</th>\n",
              "      <th>Yield</th>\n",
              "    </tr>\n",
              "  </thead>\n",
              "  <tbody>\n",
              "    <tr>\n",
              "      <th>count</th>\n",
              "      <td>506.000000</td>\n",
              "      <td>506.000000</td>\n",
              "      <td>506.000000</td>\n",
              "      <td>506.000000</td>\n",
              "      <td>506.000000</td>\n",
              "      <td>506.000000</td>\n",
              "      <td>506.000000</td>\n",
              "      <td>506.000000</td>\n",
              "      <td>506.000000</td>\n",
              "      <td>506.000000</td>\n",
              "      <td>506.000000</td>\n",
              "      <td>506.000000</td>\n",
              "    </tr>\n",
              "    <tr>\n",
              "      <th>mean</th>\n",
              "      <td>3.795043</td>\n",
              "      <td>18.455534</td>\n",
              "      <td>356.674032</td>\n",
              "      <td>12.653063</td>\n",
              "      <td>3.613524</td>\n",
              "      <td>11.363636</td>\n",
              "      <td>6.284634</td>\n",
              "      <td>11.131488</td>\n",
              "      <td>0.551258</td>\n",
              "      <td>68.574901</td>\n",
              "      <td>408.252839</td>\n",
              "      <td>22.532806</td>\n",
              "    </tr>\n",
              "    <tr>\n",
              "      <th>std</th>\n",
              "      <td>2.105710</td>\n",
              "      <td>2.164946</td>\n",
              "      <td>91.294864</td>\n",
              "      <td>7.141062</td>\n",
              "      <td>8.601545</td>\n",
              "      <td>23.322453</td>\n",
              "      <td>0.702617</td>\n",
              "      <td>6.868654</td>\n",
              "      <td>0.181693</td>\n",
              "      <td>28.148861</td>\n",
              "      <td>168.530578</td>\n",
              "      <td>9.197104</td>\n",
              "    </tr>\n",
              "    <tr>\n",
              "      <th>min</th>\n",
              "      <td>1.129600</td>\n",
              "      <td>12.600000</td>\n",
              "      <td>0.320000</td>\n",
              "      <td>1.730000</td>\n",
              "      <td>0.006320</td>\n",
              "      <td>0.000000</td>\n",
              "      <td>3.561000</td>\n",
              "      <td>0.472905</td>\n",
              "      <td>0.103660</td>\n",
              "      <td>2.900000</td>\n",
              "      <td>186.765075</td>\n",
              "      <td>5.000000</td>\n",
              "    </tr>\n",
              "    <tr>\n",
              "      <th>25%</th>\n",
              "      <td>2.100175</td>\n",
              "      <td>17.400000</td>\n",
              "      <td>375.377500</td>\n",
              "      <td>6.950000</td>\n",
              "      <td>0.082045</td>\n",
              "      <td>0.000000</td>\n",
              "      <td>5.885500</td>\n",
              "      <td>5.149096</td>\n",
              "      <td>0.422286</td>\n",
              "      <td>45.025000</td>\n",
              "      <td>278.745884</td>\n",
              "      <td>17.025000</td>\n",
              "    </tr>\n",
              "    <tr>\n",
              "      <th>50%</th>\n",
              "      <td>3.207450</td>\n",
              "      <td>19.050000</td>\n",
              "      <td>391.440000</td>\n",
              "      <td>11.360000</td>\n",
              "      <td>0.256510</td>\n",
              "      <td>0.000000</td>\n",
              "      <td>6.208500</td>\n",
              "      <td>9.588040</td>\n",
              "      <td>0.528133</td>\n",
              "      <td>77.500000</td>\n",
              "      <td>330.467783</td>\n",
              "      <td>21.200000</td>\n",
              "    </tr>\n",
              "    <tr>\n",
              "      <th>75%</th>\n",
              "      <td>5.188425</td>\n",
              "      <td>20.200000</td>\n",
              "      <td>396.225000</td>\n",
              "      <td>16.955000</td>\n",
              "      <td>3.677082</td>\n",
              "      <td>12.500000</td>\n",
              "      <td>6.623500</td>\n",
              "      <td>18.094315</td>\n",
              "      <td>0.668573</td>\n",
              "      <td>94.075000</td>\n",
              "      <td>665.354401</td>\n",
              "      <td>25.000000</td>\n",
              "    </tr>\n",
              "    <tr>\n",
              "      <th>max</th>\n",
              "      <td>12.126500</td>\n",
              "      <td>22.000000</td>\n",
              "      <td>396.900000</td>\n",
              "      <td>37.970000</td>\n",
              "      <td>88.976200</td>\n",
              "      <td>100.000000</td>\n",
              "      <td>8.780000</td>\n",
              "      <td>28.074197</td>\n",
              "      <td>1.158538</td>\n",
              "      <td>100.000000</td>\n",
              "      <td>711.210992</td>\n",
              "      <td>50.000000</td>\n",
              "    </tr>\n",
              "  </tbody>\n",
              "</table>\n",
              "</div>"
            ],
            "text/plain": [
              "              S_1         S_2         S_3  ...         W_3         W_4       Yield\n",
              "count  506.000000  506.000000  506.000000  ...  506.000000  506.000000  506.000000\n",
              "mean     3.795043   18.455534  356.674032  ...   68.574901  408.252839   22.532806\n",
              "std      2.105710    2.164946   91.294864  ...   28.148861  168.530578    9.197104\n",
              "min      1.129600   12.600000    0.320000  ...    2.900000  186.765075    5.000000\n",
              "25%      2.100175   17.400000  375.377500  ...   45.025000  278.745884   17.025000\n",
              "50%      3.207450   19.050000  391.440000  ...   77.500000  330.467783   21.200000\n",
              "75%      5.188425   20.200000  396.225000  ...   94.075000  665.354401   25.000000\n",
              "max     12.126500   22.000000  396.900000  ...  100.000000  711.210992   50.000000\n",
              "\n",
              "[8 rows x 12 columns]"
            ]
          },
          "metadata": {},
          "execution_count": 2
        }
      ]
    },
    {
      "cell_type": "markdown",
      "metadata": {
        "collapsed": false,
        "pycharm": {
          "name": "#%% md\n"
        },
        "id": "KsoDkW7g9aP9"
      },
      "source": [
        "The statistical description is shown above. As the feature `variety` is just a number to represent corp variety, we do not\n",
        "have to count its means, std, min, etc.\n",
        "\n",
        "From the above data we can see in the column `M_2`, there are some values are missed. The dataset has used $0$ to replace\n",
        "these missed values.\n",
        "\n",
        "However, to a certain variety of crops, there maybe a certain result corresponding to its features and yield,\n",
        "therefore, we will get the statistical description of different varieties of corps separately."
      ]
    },
    {
      "cell_type": "code",
      "metadata": {
        "pycharm": {
          "name": "#%%\n"
        },
        "colab": {
          "base_uri": "https://localhost:8080/"
        },
        "id": "Sp6EKXkF9aP9",
        "outputId": "bd7f249a-6b32-4191-8cce-c5ad4b52f426"
      },
      "source": [
        "# count how many varieties in corps\n",
        "df['Variety'].value_counts()"
      ],
      "execution_count": null,
      "outputs": [
        {
          "output_type": "execute_result",
          "data": {
            "text/plain": [
              "24    132\n",
              "5     115\n",
              "4     110\n",
              "3      38\n",
              "6      26\n",
              "8      24\n",
              "2      24\n",
              "1      20\n",
              "7      17\n",
              "Name: Variety, dtype: int64"
            ]
          },
          "metadata": {},
          "execution_count": 3
        }
      ]
    },
    {
      "cell_type": "code",
      "metadata": {
        "pycharm": {
          "name": "#%%\n"
        },
        "id": "sa7TvcxY9aP9"
      },
      "source": [
        "def show_describe(dataframe, variety_num):\n",
        "    \"\"\"\"The variety_num can only be one of [24, 5, 4, 3, 6, 2, 8, 1, 7]\"\"\"\n",
        "    df_v = dataframe.loc[dataframe['Variety'] == variety_num]\n",
        "    return  df_v.describe()"
      ],
      "execution_count": null,
      "outputs": []
    },
    {
      "cell_type": "code",
      "metadata": {
        "pycharm": {
          "name": "#%%\n"
        },
        "id": "9p55z9rU9aP-"
      },
      "source": [
        "def DiffYield(dataframe):\n",
        "    \"\"\"Input the table of .csv, return the summary of yeild based on different variety\"\"\"\n",
        "    varieties = [24, 5, 4, 3, 6, 2, 8, 1, 7]\n",
        "    index = ['mean', 'std', 'min', '25%', '50%', '75%', 'max']\n",
        "    v_names = []\n",
        "    data = {}\n",
        "\n",
        "    for i in varieties:\n",
        "        df_v = show_describe(dataframe, i)  # get the describe info of a single variety\n",
        "        corp_yield = df_v.iloc[1:, -1].values\n",
        "        exec(f\"data['Variety_{i}'] = corp_yield\")\n",
        "    yield_df = pd.DataFrame(data, index=index)\n",
        "\n",
        "    return yield_df"
      ],
      "execution_count": null,
      "outputs": []
    },
    {
      "cell_type": "code",
      "metadata": {
        "pycharm": {
          "name": "#%%\n"
        },
        "colab": {
          "base_uri": "https://localhost:8080/"
        },
        "id": "PlETqDYM9aP-",
        "outputId": "76678695-2665-4b11-fcc1-e320e70994e9"
      },
      "source": [
        "# df.iloc[1:, -1]\n",
        "df.iloc[1:, -1].index"
      ],
      "execution_count": null,
      "outputs": [
        {
          "output_type": "execute_result",
          "data": {
            "text/plain": [
              "RangeIndex(start=1, stop=506, step=1)"
            ]
          },
          "metadata": {},
          "execution_count": 6
        }
      ]
    },
    {
      "cell_type": "code",
      "metadata": {
        "pycharm": {
          "name": "#%%\n"
        },
        "colab": {
          "base_uri": "https://localhost:8080/",
          "height": 266
        },
        "id": "ZtZ0olWl9aP_",
        "outputId": "75a15a03-a417-4748-9525-42faf698e6c1"
      },
      "source": [
        "DiffYield(df)"
      ],
      "execution_count": null,
      "outputs": [
        {
          "output_type": "execute_result",
          "data": {
            "text/html": [
              "<div>\n",
              "<style scoped>\n",
              "    .dataframe tbody tr th:only-of-type {\n",
              "        vertical-align: middle;\n",
              "    }\n",
              "\n",
              "    .dataframe tbody tr th {\n",
              "        vertical-align: top;\n",
              "    }\n",
              "\n",
              "    .dataframe thead th {\n",
              "        text-align: right;\n",
              "    }\n",
              "</style>\n",
              "<table border=\"1\" class=\"dataframe\">\n",
              "  <thead>\n",
              "    <tr style=\"text-align: right;\">\n",
              "      <th></th>\n",
              "      <th>Variety_24</th>\n",
              "      <th>Variety_5</th>\n",
              "      <th>Variety_4</th>\n",
              "      <th>Variety_3</th>\n",
              "      <th>Variety_6</th>\n",
              "      <th>Variety_2</th>\n",
              "      <th>Variety_8</th>\n",
              "      <th>Variety_1</th>\n",
              "      <th>Variety_7</th>\n",
              "    </tr>\n",
              "  </thead>\n",
              "  <tbody>\n",
              "    <tr>\n",
              "      <th>mean</th>\n",
              "      <td>16.403788</td>\n",
              "      <td>25.706957</td>\n",
              "      <td>21.387273</td>\n",
              "      <td>27.928947</td>\n",
              "      <td>20.976923</td>\n",
              "      <td>26.833333</td>\n",
              "      <td>30.358333</td>\n",
              "      <td>24.365000</td>\n",
              "      <td>27.105882</td>\n",
              "    </tr>\n",
              "    <tr>\n",
              "      <th>std</th>\n",
              "      <td>8.539745</td>\n",
              "      <td>9.328401</td>\n",
              "      <td>6.957883</td>\n",
              "      <td>8.324692</td>\n",
              "      <td>2.312801</td>\n",
              "      <td>7.874376</td>\n",
              "      <td>9.727724</td>\n",
              "      <td>8.024454</td>\n",
              "      <td>6.493215</td>\n",
              "    </tr>\n",
              "    <tr>\n",
              "      <th>min</th>\n",
              "      <td>5.000000</td>\n",
              "      <td>11.800000</td>\n",
              "      <td>7.000000</td>\n",
              "      <td>14.400000</td>\n",
              "      <td>16.800000</td>\n",
              "      <td>15.700000</td>\n",
              "      <td>16.000000</td>\n",
              "      <td>11.900000</td>\n",
              "      <td>17.600000</td>\n",
              "    </tr>\n",
              "    <tr>\n",
              "      <th>25%</th>\n",
              "      <td>11.225000</td>\n",
              "      <td>19.500000</td>\n",
              "      <td>17.575000</td>\n",
              "      <td>21.125000</td>\n",
              "      <td>18.900000</td>\n",
              "      <td>21.400000</td>\n",
              "      <td>23.825000</td>\n",
              "      <td>20.475000</td>\n",
              "      <td>24.300000</td>\n",
              "    </tr>\n",
              "    <tr>\n",
              "      <th>50%</th>\n",
              "      <td>14.400000</td>\n",
              "      <td>23.000000</td>\n",
              "      <td>20.450000</td>\n",
              "      <td>26.500000</td>\n",
              "      <td>21.200000</td>\n",
              "      <td>23.850000</td>\n",
              "      <td>28.250000</td>\n",
              "      <td>22.200000</td>\n",
              "      <td>26.200000</td>\n",
              "    </tr>\n",
              "    <tr>\n",
              "      <th>75%</th>\n",
              "      <td>19.900000</td>\n",
              "      <td>30.000000</td>\n",
              "      <td>23.650000</td>\n",
              "      <td>34.525000</td>\n",
              "      <td>23.025000</td>\n",
              "      <td>33.225000</td>\n",
              "      <td>33.175000</td>\n",
              "      <td>27.225000</td>\n",
              "      <td>29.600000</td>\n",
              "    </tr>\n",
              "    <tr>\n",
              "      <th>max</th>\n",
              "      <td>50.000000</td>\n",
              "      <td>50.000000</td>\n",
              "      <td>50.000000</td>\n",
              "      <td>50.000000</td>\n",
              "      <td>24.800000</td>\n",
              "      <td>43.800000</td>\n",
              "      <td>50.000000</td>\n",
              "      <td>50.000000</td>\n",
              "      <td>42.800000</td>\n",
              "    </tr>\n",
              "  </tbody>\n",
              "</table>\n",
              "</div>"
            ],
            "text/plain": [
              "      Variety_24  Variety_5  Variety_4  ...  Variety_8  Variety_1  Variety_7\n",
              "mean   16.403788  25.706957  21.387273  ...  30.358333  24.365000  27.105882\n",
              "std     8.539745   9.328401   6.957883  ...   9.727724   8.024454   6.493215\n",
              "min     5.000000  11.800000   7.000000  ...  16.000000  11.900000  17.600000\n",
              "25%    11.225000  19.500000  17.575000  ...  23.825000  20.475000  24.300000\n",
              "50%    14.400000  23.000000  20.450000  ...  28.250000  22.200000  26.200000\n",
              "75%    19.900000  30.000000  23.650000  ...  33.175000  27.225000  29.600000\n",
              "max    50.000000  50.000000  50.000000  ...  50.000000  50.000000  42.800000\n",
              "\n",
              "[7 rows x 9 columns]"
            ]
          },
          "metadata": {},
          "execution_count": 7
        }
      ]
    },
    {
      "cell_type": "markdown",
      "metadata": {
        "collapsed": false,
        "pycharm": {
          "name": "#%% md\n"
        },
        "id": "c4scxq1k9aP_"
      },
      "source": [
        "From above table we can tell that to different varieties of corps, the yield is also different. For example, The Max yield of\n",
        "`Variety_6` is just 24.8 which is much lower than other varieties. According to the mean of `variety_24`, we can tell its average\n",
        "yield is much lower than other varieties. Therefore, we can conclude that the variety of corps affects its yield."
      ]
    },
    {
      "cell_type": "markdown",
      "metadata": {
        "collapsed": false,
        "pycharm": {
          "name": "#%% md\n"
        },
        "id": "NTHA8nQ09aP_"
      },
      "source": [
        "### Task 1 - B: Data pre-processing\n",
        "\n",
        "In this section, we will split dataset to train, validation, test with rate of 6:2:2. At the same time, we will try our\n",
        "best to ensure the fairness and uniformity of data. According to the conclusion of `Task 1 - A`, we know that the variety\n",
        "of corps affects its yield. Therefore, we will take samples from each variety at a ratio of $6:2:2$ (train:validation:test),\n",
        "and then compose the datasets. In this case, we can assure as much as possible that in each set of data, the variety proportions of\n",
        "corps are approximately equal."
      ]
    },
    {
      "cell_type": "code",
      "metadata": {
        "pycharm": {
          "name": "#%%\n"
        },
        "id": "1QDen5jb9aQA"
      },
      "source": [
        "from sklearn.preprocessing import StandardScaler\n",
        "\n",
        "def extract_df_by_variety(dataframe):\n",
        "    \"\"\"Split dataframe based on varieties, return all dataframes with dictionary\"\"\"\n",
        "    varieties = [24, 5, 4, 3, 6, 2, 8, 1, 7]\n",
        "    extracted_df = {}\n",
        "    for variety in varieties:\n",
        "        df_s = dataframe.loc[dataframe['Variety'] == variety]\n",
        "        # exec(f\"extracted_df['Variety_{variety}'] = df_s\")\n",
        "        extracted_df[variety] = df_s\n",
        "    return extracted_df\n",
        "\n",
        "def split_single_dataset(dataframe):\n",
        "    \"\"\"split particular dataset to train:val:test = 6:2:2\"\"\"\n",
        "    train_set = dataframe.sample(frac=0.6, random_state=0, axis=0)\n",
        "    rest_set = dataframe[~dataframe.index.isin(train_set.index)]\n",
        "    test_set = rest_set.sample(frac=0.5, random_state=0, axis=0)\n",
        "    val_set = rest_set[~rest_set.index.isin(test_set.index)]\n",
        "\n",
        "    return train_set, test_set, val_set\n",
        "\n",
        "def stratified_sampling(dataframe):\n",
        "    \"\"\"\"Combine above functions, input the dataframe, return the stratified sampled datasets\"\"\"\n",
        "    extracted_dfs = extract_df_by_variety(dataframe)\n",
        "    train_sets, test_sets, val_sets = [], [], []\n",
        "    for _df in extracted_dfs.values():\n",
        "        train_set, test_set, val_set = split_single_dataset(_df)\n",
        "        train_sets.append(train_set)\n",
        "        test_sets.append(test_set)\n",
        "        val_sets.append(val_set)\n",
        "    p_train = np.array(pd.concat(train_sets).sample(frac=1), dtype='float32')\n",
        "    p_test = np.array(pd.concat(test_sets).sample(frac=1), dtype='float32')\n",
        "    p_val = np.array(pd.concat(val_sets).sample(frac=1), dtype='float32')\n",
        "\n",
        "    return p_train, p_test, p_val\n"
      ],
      "execution_count": null,
      "outputs": []
    },
    {
      "cell_type": "code",
      "metadata": {
        "pycharm": {
          "name": "#%%\n"
        },
        "id": "4FPc0exm9aQA"
      },
      "source": [
        "# get train, validation, test datasets\n",
        "train_set, test_set, val_set = stratified_sampling(df)"
      ],
      "execution_count": null,
      "outputs": []
    },
    {
      "cell_type": "code",
      "metadata": {
        "pycharm": {
          "name": "#%%\n"
        },
        "id": "wUwM3OfD9aQB"
      },
      "source": [
        "def tensor_generator(dataset):\n",
        "    \"\"\"input stratified sampled dataset, return variable x and result y\"\"\"\n",
        "    x = torch.tensor(dataset[...,:12])\n",
        "    y = torch.tensor(dataset[...,12:])\n",
        "    return x, y"
      ],
      "execution_count": null,
      "outputs": []
    },
    {
      "cell_type": "code",
      "metadata": {
        "pycharm": {
          "name": "#%%\n"
        },
        "colab": {
          "base_uri": "https://localhost:8080/"
        },
        "id": "2HLQA9lc9aQB",
        "outputId": "42f6defd-ddaf-44db-b819-57020b864743"
      },
      "source": [
        "# get tensors\n",
        "\n",
        "x_train, y_train = tensor_generator(train_set)\n",
        "x_val, y_val = tensor_generator(val_set)\n",
        "x_test, y_test = tensor_generator(test_set)\n",
        "\n",
        "x_train"
      ],
      "execution_count": null,
      "outputs": [
        {
          "output_type": "execute_result",
          "data": {
            "text/plain": [
              "tensor([[6.0000e+00, 2.8927e+00, 1.9200e+01,  ..., 4.5895e-01, 7.0600e+01,\n",
              "         3.9106e+02],\n",
              "        [5.0000e+00, 1.4191e+00, 1.4700e+01,  ..., 9.5758e-01, 1.0000e+02,\n",
              "         4.0364e+02],\n",
              "        [2.4000e+01, 1.6475e+00, 2.0200e+01,  ..., 4.9562e-01, 8.9100e+01,\n",
              "         6.6605e+02],\n",
              "        ...,\n",
              "        [2.0000e+00, 1.9929e+00, 1.9100e+01,  ..., 4.5043e-01, 8.8400e+01,\n",
              "         1.8773e+02],\n",
              "        [2.4000e+01, 1.6768e+00, 2.0200e+01,  ..., 6.9845e-01, 9.6000e+01,\n",
              "         6.6531e+02],\n",
              "        [2.0000e+00, 2.1974e+00, 1.9100e+01,  ..., 2.9167e-01, 8.4100e+01,\n",
              "         1.8753e+02]])"
            ]
          },
          "metadata": {},
          "execution_count": 11
        }
      ]
    },
    {
      "cell_type": "markdown",
      "metadata": {
        "collapsed": false,
        "pycharm": {
          "name": "#%% md\n"
        },
        "id": "mRvVV8fI9aQB"
      },
      "source": [
        "According to the first table shown in `Task 1 - A`, we can tell that the values of different features have observable difference, for example,\n",
        "in the first example, the value of feature `S_3` is 369.90, the value of feature `W_2` is 0.475522. To eliminate the gradient descent majorly\n",
        "depends on some features, we will do z-score normalization to the variable $X$. As we know, the formula of z-score is: $\\hat X = \\frac{X-\\mu}{\\epsilon}$,\n",
        "where $\\hat X$ is the normalized variable $X$, $\\mu$ is the mean of $X$, $\\epsilon$ is the standard deviation of $X$. Therefore, we can define\n",
        "function as the following."
      ]
    },
    {
      "cell_type": "code",
      "metadata": {
        "pycharm": {
          "name": "#%%\n"
        },
        "id": "Vm5z5U589aQC"
      },
      "source": [
        "# def normalization(dataframe, columns):\n",
        "#     sc_set = StandardScaler().fit_transform(dataframe)\n",
        "#     return pd.DataFrame(data=sc_set, columns=columns)\n",
        "def normalization_x(x, y):\n",
        "    \"\"\"Input a tensor, return the z-score normalized tensor\"\"\"\n",
        "    mean = torch.mean(x)\n",
        "    std = torch.std(x)\n",
        "    normed_x = (x - mean) / std\n",
        "    normed_y = (y - mean) / std\n",
        "    return normed_x, normed_y\n",
        "\n",
        "# normalize X\n",
        "normed_x_train, normed_y_train = normalization_x(x_train, y_train)\n",
        "normed_x_val, normed_y_val = normalization_x(x_val, y_val)\n",
        "normed_x_test, normed_y_test = normalization_x(x_test, y_test)"
      ],
      "execution_count": null,
      "outputs": []
    },
    {
      "cell_type": "markdown",
      "metadata": {
        "collapsed": false,
        "pycharm": {
          "name": "#%% md\n"
        },
        "id": "LV4hAV0Y9aQD"
      },
      "source": [
        "### Task 1 - C: Linear Regression Training\n",
        "\n",
        "In this section we will define the Linear models and fit them with PyTorch. According to the requirements of task. We will create two linear models. One is Ridge regression, the other one is Lasso regression. \n",
        "\n",
        "During the traininig process, we will count the mean square error for the training set and validation set. Then we choose the best performance model according to these observed values."
      ]
    },
    {
      "cell_type": "markdown",
      "metadata": {
        "id": "aW61QYe9C3PM"
      },
      "source": [
        "In fact, Edge regression and Lasso regression is L2 and L1 optimization in Linear regression. \n",
        "\n",
        "The essence of L1 optimization is adding a $\\frac{1}{2}\\lambda\\omega^2$ to every $\\omega$ of the function($\\frac{1}{2}\\lambda||W||^2 = \\frac{1}{2}\\sum_j \\omega^2_j$). Therefore, to define L1 optimization, we will re-write the calculation process of loss function during train process. \n",
        "\n",
        "To define the Edge regression, L2 regularization means that all $\\omega$ decrease linearly toward 0 with $\\omega += -\\lambda * W$. Fortunately, in PyTorch, the optimizer has parameter `weight_decay(float, optional)`, when this parameter is not equal to 0, it is L2 regularizaiton.\n",
        "\n",
        "Therefore, we can define `edge_linear` and `lasso_linear` to train our model as below. \n",
        "\n",
        "The initial hyperparameters will be set as the following, then we will try to find the optimal hyperparameters after the first trains. \n",
        "\n",
        "* lr(learning rate/step size) = 0.001\n",
        "* epoch = 10000\n",
        "* L1/L2 lambda = 0.001"
      ]
    },
    {
      "cell_type": "code",
      "metadata": {
        "pycharm": {
          "name": "#%%\n"
        },
        "id": "Z0qh7q9X9aQC"
      },
      "source": [
        "import matplotlib.pyplot as plt\n",
        "%matplotlib inline\n",
        "\n",
        "def edge_linear(x_train, y_train, x_val, y_val, epoch, p_step=10, lr=0.01, save_model=False, gpu=False, vis=False, lambda_L=0):\n",
        "    \"\"\"Edge regression\"\"\"\n",
        "\n",
        "    model = torch.nn.Linear(12, 1, bias=True)  # define Linear model\n",
        "    loss_func = torch.nn.MSELoss()  # define loss function\n",
        "    optim = torch.optim.SGD(model.parameters(), lr=lr, weight_decay=lambda_L)  # define optimizer\n",
        "    loss_history = []\n",
        "    loss_val_history = []\n",
        "    if gpu:\n",
        "        model = model.cuda(0)\n",
        "        x_train = x_train.cuda(0)\n",
        "        y_train = y_train.cuda(0)\n",
        "        x_val = x_val.cuda(0)\n",
        "        y_val = y_val.cuda(0)\n",
        "\n",
        "    print('iter,\\ttrain_loss,\\tval_loss')\n",
        "\n",
        "    for i in range(epoch):\n",
        "        \"\"\"Train process\"\"\"\n",
        "        y_hat = model(x_train)\n",
        "        loss = loss_func(y_hat, y_train)\n",
        "        loss_history.append(loss)\n",
        "        optim.zero_grad()\n",
        "        loss.backward()\n",
        "        optim.step()\n",
        "        # print(model.weight.detach().numpy())\n",
        "        \"\"\"validation process\"\"\"\n",
        "        y_val_hat = model(x_val)\n",
        "        loss_val = loss_func(y_val_hat, y_val)\n",
        "        loss_val_history.append(loss_val)\n",
        "        # print(model.weight.detach().numpy())\n",
        "        \"\"\"print the train loss and validation loss\"\"\"\n",
        "        if i % p_step == 0 or i==epoch-1:\n",
        "            print(f'{i}\\t{loss.item():.4f}\\t\\t{loss_val.item():.4f}')\n",
        "    if save_model:\n",
        "        torch.save(model, './EdgeLinear.pth')\n",
        "    if vis:\n",
        "        x_1 = loss_history\n",
        "        x_2 = loss_val_history\n",
        "        y = range(epoch)\n",
        "        plt.plot(y, x_1, label=\"train loss\")\n",
        "        plt.plot(y, x_2, label=\"val loss\")\n",
        "        plt.xlabel(\"epoch\")\n",
        "        plt.ylabel(\"loss value\")\n",
        "        plt.title(\"Loss Values\")\n",
        "        plt.legend()"
      ],
      "execution_count": null,
      "outputs": []
    },
    {
      "cell_type": "code",
      "metadata": {
        "pycharm": {
          "name": "#%%\n"
        },
        "id": "-ZWxAxD49aQE"
      },
      "source": [
        "def lasso_linear(x_train, y_train, x_val, y_val, epoch, p_step=10, lr=0.001, save_model=False, gpu=False, vis=False, lambda_L=0):\n",
        "    \"\"\"Lasso regression\"\"\"\n",
        "    model = torch.nn.Linear(12, 1, bias=True)  # define Linear model\n",
        "    loss_func = torch.nn.MSELoss()  # define loss function\n",
        "    optim = torch.optim.SGD(model.parameters(), lr=lr)  # define optimizer\n",
        "    loss_history = []\n",
        "    loss_val_history = []\n",
        "    if gpu:\n",
        "        model = model.cuda(0)\n",
        "        x_train = x_train.cuda(0)\n",
        "        y_train = y_train.cuda(0)\n",
        "        x_val = x_val.cuda(0)\n",
        "        y_val = y_val.cuda(0)\n",
        "    print('iter,\\ttrain_loss,\\tval_loss')\n",
        "\n",
        "    for i in range(epoch):\n",
        "        \"\"\"Train process\"\"\"\n",
        "        w = 0\n",
        "        for param in model.parameters():\n",
        "            w += torch.sum(abs(param))\n",
        "        y_hat = model(x_train)\n",
        "        loss = loss_func(y_hat, y_train) + lambda_L * w\n",
        "        loss_history.append(loss.item())\n",
        "        optim.zero_grad()\n",
        "        loss.backward()\n",
        "        optim.step()\n",
        "        # print(model.weight.detach().numpy())\n",
        "        \"\"\"validation process\"\"\"\n",
        "        y_val_hat = model(x_val)\n",
        "        loss_val = loss_func(y_val_hat, y_val)\n",
        "        loss_val_history.append(loss_val.item())\n",
        "        # print(model.weight.detach().numpy())\n",
        "        \"\"\"print the train loss and validation loss\"\"\"\n",
        "        if i % p_step == 0 or i==epoch-1:\n",
        "            print(f'{i}\\t{loss.item():.4f}\\t\\t{loss_val.item():.4f}')\n",
        "    if save_model:\n",
        "        torch.save(model, './LassoLinear.pth')\n",
        "    if vis:\n",
        "        x_1 = loss_history\n",
        "        x_2 = loss_val_history\n",
        "        y = range(epoch)\n",
        "        plt.plot(y, x_1, label=\"train loss\")\n",
        "        plt.plot(y, x_2, label=\"val loss\")\n",
        "        plt.xlabel(\"epoch\")\n",
        "        plt.ylabel(\"loss value\")\n",
        "        plt.title(\"Loss Values\")\n",
        "        plt.legend()"
      ],
      "execution_count": null,
      "outputs": []
    },
    {
      "cell_type": "code",
      "metadata": {
        "colab": {
          "base_uri": "https://localhost:8080/",
          "height": 669
        },
        "id": "mkdNQg4uS5Me",
        "outputId": "61f972b4-9574-49e6-8aa7-eac49c99f2b2"
      },
      "source": [
        "edge_linear(normed_x_train, normed_y_train, normed_x_val, normed_y_val, epoch=10000, p_step=500, lr=0.001, save_model=True, gpu=True, vis=True, lambda_L=0.001)"
      ],
      "execution_count": null,
      "outputs": [
        {
          "output_type": "stream",
          "name": "stdout",
          "text": [
            "iter,\ttrain_loss,\tval_loss\n",
            "0\t0.9173\t\t0.8430\n",
            "500\t0.0229\t\t0.0235\n",
            "1000\t0.0095\t\t0.0108\n",
            "1500\t0.0075\t\t0.0090\n",
            "2000\t0.0069\t\t0.0083\n",
            "2500\t0.0064\t\t0.0078\n",
            "3000\t0.0060\t\t0.0073\n",
            "3500\t0.0057\t\t0.0068\n",
            "4000\t0.0054\t\t0.0065\n",
            "4500\t0.0051\t\t0.0061\n",
            "5000\t0.0049\t\t0.0058\n",
            "5500\t0.0047\t\t0.0056\n",
            "6000\t0.0045\t\t0.0053\n",
            "6500\t0.0043\t\t0.0051\n",
            "7000\t0.0042\t\t0.0050\n",
            "7500\t0.0041\t\t0.0048\n",
            "8000\t0.0040\t\t0.0047\n",
            "8500\t0.0039\t\t0.0045\n",
            "9000\t0.0038\t\t0.0044\n",
            "9500\t0.0037\t\t0.0043\n",
            "9999\t0.0036\t\t0.0042\n"
          ]
        },
        {
          "output_type": "display_data",
          "data": {
            "image/png": "[encoded data removed]",
            "text/plain": [
              "<Figure size 432x288 with 1 Axes>"
            ]
          },
          "metadata": {
            "needs_background": "light"
          }
        }
      ]
    },
    {
      "cell_type": "code",
      "metadata": {
        "colab": {
          "base_uri": "https://localhost:8080/",
          "height": 669
        },
        "id": "SQpXap2d1tlf",
        "outputId": "3e4b4eda-f381-413d-cc55-fbcf8d8c7cb9"
      },
      "source": [
        "lasso_linear(normed_x_train, normed_y_train, normed_x_val, normed_y_val, epoch=10000, p_step=500, lr=0.001, save_model=True, gpu=True, vis=True, lambda_L=0.001)"
      ],
      "execution_count": null,
      "outputs": [
        {
          "output_type": "stream",
          "name": "stdout",
          "text": [
            "iter,\ttrain_loss,\tval_loss\n",
            "0\t1.2349\t\t1.1668\n",
            "500\t0.0070\t\t0.0072\n",
            "1000\t0.0065\t\t0.0066\n",
            "1500\t0.0063\t\t0.0062\n",
            "2000\t0.0060\t\t0.0059\n",
            "2500\t0.0058\t\t0.0056\n",
            "3000\t0.0056\t\t0.0054\n",
            "3500\t0.0054\t\t0.0051\n",
            "4000\t0.0053\t\t0.0050\n",
            "4500\t0.0052\t\t0.0048\n",
            "5000\t0.0050\t\t0.0047\n",
            "5500\t0.0049\t\t0.0045\n",
            "6000\t0.0048\t\t0.0044\n",
            "6500\t0.0047\t\t0.0043\n",
            "7000\t0.0047\t\t0.0042\n",
            "7500\t0.0046\t\t0.0041\n",
            "8000\t0.0045\t\t0.0040\n",
            "8500\t0.0044\t\t0.0040\n",
            "9000\t0.0044\t\t0.0039\n",
            "9500\t0.0043\t\t0.0038\n",
            "9999\t0.0043\t\t0.0038\n"
          ]
        },
        {
          "output_type": "display_data",
          "data": {
            "image/png": "[encoded data removed]",
            "text/plain": [
              "<Figure size 432x288 with 1 Axes>"
            ]
          },
          "metadata": {
            "needs_background": "light"
          }
        }
      ]
    },
    {
      "cell_type": "markdown",
      "metadata": {
        "id": "Y00VNhpv3ibM"
      },
      "source": [
        "### Task 1 - D: Inference\n",
        "\n",
        "We have defined, trained, and saved two models in `Task 1 - C`, as we can tell that the performance of Edge regression is better than Lasso regression. In this section, we will define a test function to calculate the MSE, RMSE, MAE based on the choosen model.\n",
        "\n",
        "As we know the formulas of the mentioned loss functions are: \n",
        "\n",
        "* $MAE = \\frac{1}{m}\\sum_{i=1}^{m}|y_i - \\hat y_i|$\n",
        "* $MSE = \\frac{1}{m}\\sum_{i=1}^{m}(y_i - \\hat y_i)^2$\n",
        "* $RMSE = \\sqrt{\\frac{1}{m}\\sum_{i=1}^{m}(y_i - \\hat y_i)^2}$\n",
        "\n",
        "In PyTorch, we can define MSE by `torch.nn.MSEloss()`, define MAE by `torch.nn.L1Loss()`, according to the above foumlas, we can write RMSE manually."
      ]
    },
    {
      "cell_type": "code",
      "metadata": {
        "pycharm": {
          "name": "#%%\n"
        },
        "id": "M6_Y__kg9aQD"
      },
      "source": [
        "def test_data(model_path, x_test, y_test, visualize=False):\n",
        "    \"\"\"\n",
        "    input the path of model, x_test, y_test, the function will print the mse, rmse, mae\n",
        "    based on the loaded model\n",
        "    \"\"\"\n",
        "    model = torch.load(model_path)\n",
        "    mse_loss = torch.nn.MSELoss()\n",
        "    mae_loss = torch.nn.L1Loss()\n",
        "    # rmse_loss = torch.sqrt(mse_loss)\n",
        "    predict = model(x_test)\n",
        "    mse = mse_loss(y_test, predict)     # calculate mse\n",
        "    mae = mae_loss(y_test, predict)     # calculate mae\n",
        "    rmse = torch.sqrt(mse_loss(y_test, predict))    # calculate rmse\n",
        "\n",
        "    print(f'mae:{mae.item():.4f}\\tmse: {mse.item():.4f}\\trmse:{rmse.item():.4f}')\n",
        "    return round(mae.item(), 4), round(mse.item(), 4), round(rmse.item(), 4)"
      ],
      "execution_count": null,
      "outputs": []
    },
    {
      "cell_type": "code",
      "metadata": {
        "colab": {
          "base_uri": "https://localhost:8080/"
        },
        "id": "W4ptN9RrvkoV",
        "outputId": "52fe142e-1bc5-4152-b79d-eab3b24ebbcf"
      },
      "source": [
        "test_data('./EdgeLinear.pth', normed_x_test.cuda(0), normed_y_test.cuda(0))"
      ],
      "execution_count": null,
      "outputs": [
        {
          "output_type": "stream",
          "name": "stdout",
          "text": [
            "mae:0.0424\tmse: 0.0035\trmse:0.0593\n"
          ]
        },
        {
          "output_type": "execute_result",
          "data": {
            "text/plain": [
              "(0.0424, 0.0035, 0.0593)"
            ]
          },
          "metadata": {},
          "execution_count": 92
        }
      ]
    },
    {
      "cell_type": "markdown",
      "metadata": {
        "id": "e2cSGP05HF9-"
      },
      "source": [
        "By here we can see in the EdgeLiear model, the error are: \n",
        "\n",
        "- $MAE = 0.0431$\n",
        "- $MSE = 0.0036$\n",
        "- $RMSE = 0.0597$\n",
        "\n",
        "Comparing with the MSE in trainining dataset, we can tell that the $MSE_{test}$ is not much larger than $MSE_{train}$, inversely, $MSE_{test}$ is smaller than $MSE_{train}$, therefore, we can say the generalization of the trained model is relatively eligible."
      ]
    },
    {
      "cell_type": "markdown",
      "metadata": {
        "id": "_o1TXXPcIGO-"
      },
      "source": [
        "### Task 1 - E: Feature Importance\n",
        "\n",
        "In this section, we will infer the most important features based on the given data and trained model. Our idea is that we will eliminate one of the features in the data set. Then we will run this feature eliminated feature on our trained model to check the error. Then we will count the difference between this error with the error which wasn't eliminated. The bigger difference is, the feature is more important. "
      ]
    },
    {
      "cell_type": "code",
      "metadata": {
        "id": "iQSGy4eSyZ0C"
      },
      "source": [
        "def feature_eliminate(test_data, feature_num):\n",
        "    \"\"\"\n",
        "    Feature number representation:\n",
        "        0 -- Variety\n",
        "        1 -- S1\n",
        "        2 -- S2\n",
        "        3 -- S3\n",
        "        4 -- S4\n",
        "        5 -- M1\n",
        "        6 -- M2\n",
        "        7 -- M3\n",
        "        8 -- W1\n",
        "        9 -- W2\n",
        "        10 -- W3\n",
        "        11 -- W4\n",
        "    \"\"\"\n",
        "    new_test = deepcopy(test_data)\n",
        "    new_test[..., feature_num] = 0\n",
        "    return new_test"
      ],
      "execution_count": null,
      "outputs": []
    },
    {
      "cell_type": "code",
      "metadata": {
        "id": "628LlKFv0A2r"
      },
      "source": [
        "# eliminate the each features\n",
        "\n",
        "variety_x_test = feature_eliminate(normed_x_test, 0)\n",
        "\n",
        "s1_x_test = feature_eliminate(normed_x_test, 1)\n",
        "s2_x_test = feature_eliminate(normed_x_test, 2)\n",
        "s3_x_test = feature_eliminate(normed_x_test, 3)\n",
        "s4_x_test = feature_eliminate(normed_x_test, 4)\n",
        "\n",
        "m1_x_test = feature_eliminate(normed_x_test, 5)\n",
        "m2_x_test = feature_eliminate(normed_x_test, 6)\n",
        "m3_x_test = feature_eliminate(normed_x_test, 7)\n",
        "\n",
        "w1_x_test = feature_eliminate(normed_x_test, 8)\n",
        "w2_x_test = feature_eliminate(normed_x_test, 9)\n",
        "w3_x_test = feature_eliminate(normed_x_test, 10)\n",
        "w4_x_test = feature_eliminate(normed_x_test, 11)"
      ],
      "execution_count": null,
      "outputs": []
    },
    {
      "cell_type": "code",
      "metadata": {
        "colab": {
          "base_uri": "https://localhost:8080/"
        },
        "id": "u3lTFvyl0yFt",
        "outputId": "3c8f7eb2-c7fe-401c-cec3-101f46b0e8df"
      },
      "source": [
        "# using the eliminated data, run on the trained model to count mae, mse, rmse.\n",
        "\n",
        "original_error = test_data('./EdgeLinear.pth', normed_x_test.cuda(0), normed_y_test.cuda(0))\n",
        "\n",
        "errors = {}\n",
        "errors['Variety'] = test_data('EdgeLinear.pth', variety_x_test.cuda(0), normed_y_test.cuda(0))\n",
        "errors['S_1'] = test_data('EdgeLinear.pth', s1_x_test.cuda(0), normed_y_test.cuda(0))\n",
        "errors['S_2'] = test_data('EdgeLinear.pth', s2_x_test.cuda(0), normed_y_test.cuda(0))\n",
        "errors['S_3'] = test_data('EdgeLinear.pth', s3_x_test.cuda(0), normed_y_test.cuda(0))\n",
        "errors['S_4'] = test_data('EdgeLinear.pth', s4_x_test.cuda(0), normed_y_test.cuda(0))\n",
        "\n",
        "errors['M_1'] = test_data('EdgeLinear.pth', m1_x_test.cuda(0), normed_y_test.cuda(0))\n",
        "errors['M_2'] = test_data('EdgeLinear.pth', m2_x_test.cuda(0), normed_y_test.cuda(0))\n",
        "errors['M_3'] = test_data('EdgeLinear.pth', m3_x_test.cuda(0), normed_y_test.cuda(0))\n",
        "\n",
        "errors['W_1'] = test_data('EdgeLinear.pth', w1_x_test.cuda(0), normed_y_test.cuda(0))\n",
        "errors['W_2'] = test_data('EdgeLinear.pth', w2_x_test.cuda(0), normed_y_test.cuda(0))\n",
        "errors['W_3'] = test_data('EdgeLinear.pth', w3_x_test.cuda(0), normed_y_test.cuda(0))\n",
        "errors['W_4'] = test_data('EdgeLinear.pth', w4_x_test.cuda(0), normed_y_test.cuda(0))"
      ],
      "execution_count": null,
      "outputs": [
        {
          "output_type": "stream",
          "name": "stdout",
          "text": [
            "mae:0.0424\tmse: 0.0035\trmse:0.0593\n",
            "mae:0.0509\tmse: 0.0051\trmse:0.0717\n",
            "mae:0.0828\tmse: 0.0086\trmse:0.0928\n",
            "mae:0.0785\tmse: 0.0078\trmse:0.0885\n",
            "mae:0.0448\tmse: 0.0035\trmse:0.0595\n",
            "mae:0.0514\tmse: 0.0053\trmse:0.0730\n",
            "mae:0.1581\tmse: 0.0275\trmse:0.1659\n",
            "mae:0.0392\tmse: 0.0035\trmse:0.0589\n",
            "mae:0.1278\tmse: 0.0189\trmse:0.1376\n",
            "mae:0.0425\tmse: 0.0035\trmse:0.0593\n",
            "mae:0.0413\tmse: 0.0038\trmse:0.0614\n",
            "mae:0.0419\tmse: 0.0033\trmse:0.0572\n",
            "mae:0.0987\tmse: 0.0132\trmse:0.1148\n"
          ]
        }
      ]
    },
    {
      "cell_type": "code",
      "metadata": {
        "id": "gpbHoqVP206Y"
      },
      "source": [
        "def importance_prs(original_err, other_errors):\n",
        "    \"\"\"count the difference based on mae, mse, rmse\"\"\"\n",
        "    importance_mae = {}\n",
        "    importance_mse = {}   \n",
        "    importance_rmse = {}\n",
        "    for k, v in other_errors.items():\n",
        "        mae_dff = round(abs(original_error[0] - v[0]), 4)\n",
        "        importance_mae[k] = mae_dff\n",
        "\n",
        "        mse_dff = round(abs(original_error[1] - v[1]), 4)\n",
        "        importance_mse[k] = mse_dff\n",
        "\n",
        "        rmse_dff = round(abs(original_error[2] - v[2]), 4)\n",
        "        importance_rmse[k] = rmse_dff\n",
        "    return importance_mae,importance_mse,importance_rmse"
      ],
      "execution_count": null,
      "outputs": []
    },
    {
      "cell_type": "code",
      "metadata": {
        "id": "S86SBOy25rzI"
      },
      "source": [
        "importances = importance_prs(original_error, errors)"
      ],
      "execution_count": null,
      "outputs": []
    },
    {
      "cell_type": "code",
      "metadata": {
        "id": "f6IIHLEg6ral"
      },
      "source": [
        "def importance_evl(importances, matrix = 'mse'):\n",
        "    \"\"\"print the importance from unimportant to important sequence based on the pointed matrix\"\"\"\n",
        "    if matrix == 'mae':\n",
        "        print(sorted(importances[0].items(), key=lambda item:item[1]))\n",
        "    elif matrix == 'mse':\n",
        "        print(sorted(importances[1].items(), key=lambda item:item[1]))\n",
        "    else:\n",
        "        print(sorted(importances[2].items(), key=lambda item:item[1]))"
      ],
      "execution_count": null,
      "outputs": []
    },
    {
      "cell_type": "code",
      "metadata": {
        "colab": {
          "base_uri": "https://localhost:8080/"
        },
        "id": "lLtEtVB-9gUw",
        "outputId": "97d341b6-02b4-4ca1-dbff-8deab0370766"
      },
      "source": [
        "importance_evl(importances, 'mae')\n",
        "importance_evl(importances, 'mse')\n",
        "importance_evl(importances, 'rmse')"
      ],
      "execution_count": null,
      "outputs": [
        {
          "output_type": "stream",
          "name": "stdout",
          "text": [
            "[('W_1', 0.0001), ('W_3', 0.0005), ('W_2', 0.0011), ('S_3', 0.0024), ('M_2', 0.0032), ('Variety', 0.0085), ('S_4', 0.009), ('S_2', 0.0361), ('S_1', 0.0404), ('W_4', 0.0563), ('M_3', 0.0854), ('M_1', 0.1157)]\n",
            "[('S_3', 0.0), ('M_2', 0.0), ('W_1', 0.0), ('W_3', 0.0002), ('W_2', 0.0003), ('Variety', 0.0016), ('S_4', 0.0018), ('S_2', 0.0043), ('S_1', 0.0051), ('W_4', 0.0097), ('M_3', 0.0154), ('M_1', 0.024)]\n",
            "[('W_1', 0.0), ('S_3', 0.0002), ('M_2', 0.0004), ('W_2', 0.0021), ('W_3', 0.0021), ('Variety', 0.0124), ('S_4', 0.0137), ('S_2', 0.0292), ('S_1', 0.0335), ('W_4', 0.0555), ('M_3', 0.0783), ('M_1', 0.1066)]\n"
          ]
        }
      ]
    },
    {
      "cell_type": "markdown",
      "metadata": {
        "id": "v8vLt70MAiCY"
      },
      "source": [
        "From above result, we can tell that to different matrix, the feature importance is different. If we choose MAE as our matrix, then the importance of data features is: \n",
        "\n",
        "$W_1<W_3<W_2<S_3<M_2<Variety<S_4<S_2<S_1<W_4<M_3<M_1$\n",
        "\n",
        "If we choose MSE as our matrix, then the feature importance is: \n",
        "\n",
        "$S_3<M_2<W_1<W_3<W_2<Variety<S_4<S_2<S_1<W_4<M_3<M_1$\n",
        "\n",
        "If we choose RMSE as our matrix, then the feature immportance is: \n",
        "$W_1<S_3<M_2<W_2<W_3<Variety<S_4<S_2<S_1<W_4<M_3<M_1$\n",
        "\n",
        "Especially, we can tell no matter what matrix we choose, the most 7 important features are exactly same, as well as the sequence. The rest features have barely affection to the result so they are not important features to the data. Therefore, we can conclude that these 7 features are important for the data. The importance from high to low is $M_1 > M_3 > W_4 > S_1 > S_2 > S_4 > Variety$. "
      ]
    }
  ]
}